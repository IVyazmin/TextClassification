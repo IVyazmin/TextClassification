{
 "metadata": {
  "name": "",
  "signature": "sha256:b809528cf6285dee0b76744a5a1234c996cf630e5cc8b53fbf9c70d5530d4aa3"
 },
 "nbformat": 3,
 "nbformat_minor": 0,
 "worksheets": [
  {
   "cells": [
    {
     "cell_type": "code",
     "collapsed": false,
     "input": [
      "from sklearn.datasets import fetch_20newsgroups\n",
      "import numpy as np\n",
      "import pandas as pd\n",
      "import string\n",
      "import nltk\n",
      "nltk.download('punkt')\n",
      "import pymorphy2\n",
      "morph = pymorphy2.MorphAnalyzer()\n",
      "from tqdm import tqdm_notebook\n",
      "from scipy.sparse import csr_matrix, hstack\n",
      "from sklearn.preprocessing import StandardScaler\n",
      "from sklearn.metrics import roc_auc_score\n",
      "from sklearn.model_selection import cross_val_score\n",
      "from sklearn.model_selection import GridSearchCV\n",
      "from sklearn.linear_model import LogisticRegression\n",
      "from sklearn.feature_extraction.text import CountVectorizer, TfidfVectorizer\n",
      "from sklearn.model_selection import train_test_split\n",
      "%matplotlib inline\n",
      "from matplotlib import pyplot as plt\n",
      "import seaborn as sns\n",
      "import sqlite3\n",
      "import math\n",
      "from sklearn.linear_model import LogisticRegression\n",
      "from sklearn.neighbors import KNeighborsClassifier\n",
      "from sklearn.tree import DecisionTreeClassifier\n",
      "from sklearn.ensemble import RandomForestClassifier"
     ],
     "language": "python",
     "metadata": {},
     "outputs": [
      {
       "output_type": "stream",
       "stream": "stdout",
       "text": [
        "[nltk_data] Downloading package punkt to /home/ilja/nltk_data...\n",
        "[nltk_data]   Package punkt is already up-to-date!\n"
       ]
      }
     ],
     "prompt_number": 41
    },
    {
     "cell_type": "code",
     "collapsed": false,
     "input": [
      "conn = sqlite3.connect('text.db')\n",
      "cursor = conn.cursor()\n",
      "cursor.execute('SELECT * FROM textes;')\n",
      "articls = cursor.fetchall()"
     ],
     "language": "python",
     "metadata": {},
     "outputs": [],
     "prompt_number": 42
    },
    {
     "cell_type": "code",
     "collapsed": false,
     "input": [
      "articls = pd.DataFrame(articls, columns=['id', 'category', 'text', 'url'])\n",
      "articls.head()"
     ],
     "language": "python",
     "metadata": {},
     "outputs": [
      {
       "html": [
        "<div style=\"max-width:1500px;overflow:auto;\">\n",
        "<style scoped>\n",
        "    .dataframe tbody tr th:only-of-type {\n",
        "        vertical-align: middle;\n",
        "    }\n",
        "\n",
        "    .dataframe tbody tr th {\n",
        "        vertical-align: top;\n",
        "    }\n",
        "\n",
        "    .dataframe thead th {\n",
        "        text-align: right;\n",
        "    }\n",
        "</style>\n",
        "<table border=\"1\" class=\"dataframe\">\n",
        "  <thead>\n",
        "    <tr style=\"text-align: right;\">\n",
        "      <th></th>\n",
        "      <th>id</th>\n",
        "      <th>category</th>\n",
        "      <th>text</th>\n",
        "      <th>url</th>\n",
        "    </tr>\n",
        "  </thead>\n",
        "  <tbody>\n",
        "    <tr>\n",
        "      <th>0</th>\n",
        "      <td>1</td>\n",
        "      <td>economics</td>\n",
        "      <td>\u041f\u0440\u0430\u0432\u0438\u0442\u0435\u043b\u044c\u0441\u0442\u0432\u043e \u0432\u044b\u0431\u0440\u0430\u043b\u043e \u044d\u043a\u043e\u043d\u043e\u043c\u0438\u0447\u0435\u0441\u043a\u0438\u0435 \u0441\u043f\u0435\u0446\u0438\u0430\u043b\u0438\u0437\u0430...</td>\n",
        "      <td>https://lenta.ru/news/2018/12/10/strategy/</td>\n",
        "    </tr>\n",
        "    <tr>\n",
        "      <th>1</th>\n",
        "      <td>2</td>\n",
        "      <td>economics</td>\n",
        "      <td>\u0418\u043d\u043e\u0441\u0442\u0440\u0430\u043d\u043d\u044b\u043c \u043f\u043b\u0430\u0442\u0435\u0436\u043d\u044b\u043c \u0441\u0438\u0441\u0442\u0435\u043c\u0430\u043c \u043c\u043e\u0433\u0443\u0442 \u0437\u0430\u043f\u0440\u0435\u0442\u0438\u0442\u044c...</td>\n",
        "      <td>https://lenta.ru/news/2018/12/10/pay_like_russ...</td>\n",
        "    </tr>\n",
        "    <tr>\n",
        "      <th>2</th>\n",
        "      <td>3</td>\n",
        "      <td>economics</td>\n",
        "      <td>\u0412 \u041f\u0435\u043d\u0441\u0438\u043e\u043d\u043d\u043e\u043c \u0444\u043e\u043d\u0434\u0435 \u0420\u043e\u0441\u0441\u0438\u0438 (\u041f\u0424\u0420) \u0440\u0430\u0441\u0441\u043a\u0430\u0437\u0430\u043b\u0438 \u043e \u0440...</td>\n",
        "      <td>https://lenta.ru/news/2018/12/10/pensia/</td>\n",
        "    </tr>\n",
        "    <tr>\n",
        "      <th>3</th>\n",
        "      <td>4</td>\n",
        "      <td>economics</td>\n",
        "      <td>\u0420\u043e\u0441\u0441\u0438\u0439\u0441\u043a\u0443\u044e \u044d\u043a\u043e\u043d\u043e\u043c\u0438\u043a\u0443 \u0441\u0442\u0430\u043b\u043e \u0437\u0430\u043c\u0435\u0442\u043d\u043e \u043c\u0435\u043d\u044c\u0448\u0435 \u00ab\u043a\u043e\u043b...</td>\n",
        "      <td>https://lenta.ru/news/2018/12/08/neft/</td>\n",
        "    </tr>\n",
        "    <tr>\n",
        "      <th>4</th>\n",
        "      <td>5</td>\n",
        "      <td>economics</td>\n",
        "      <td>\u0420\u043e\u0441\u0441\u0438\u0439\u0441\u043a\u0438\u0435 \u043e\u0431\u043e\u0440\u043e\u043d\u043d\u044b\u0435 \u043a\u043e\u043c\u043f\u0430\u043d\u0438\u0438 \u0432\u044b\u0448\u043b\u0438 \u043d\u0430 \u0432\u0442\u043e\u0440\u043e\u0435 ...</td>\n",
        "      <td>https://lenta.ru/news/2018/12/10/oruzh/</td>\n",
        "    </tr>\n",
        "  </tbody>\n",
        "</table>\n",
        "</div>"
       ],
       "metadata": {},
       "output_type": "pyout",
       "prompt_number": 43,
       "text": [
        "   id   category                                               text  \\\n",
        "0   1  economics  \u041f\u0440\u0430\u0432\u0438\u0442\u0435\u043b\u044c\u0441\u0442\u0432\u043e \u0432\u044b\u0431\u0440\u0430\u043b\u043e \u044d\u043a\u043e\u043d\u043e\u043c\u0438\u0447\u0435\u0441\u043a\u0438\u0435 \u0441\u043f\u0435\u0446\u0438\u0430\u043b\u0438\u0437\u0430...   \n",
        "1   2  economics  \u0418\u043d\u043e\u0441\u0442\u0440\u0430\u043d\u043d\u044b\u043c \u043f\u043b\u0430\u0442\u0435\u0436\u043d\u044b\u043c \u0441\u0438\u0441\u0442\u0435\u043c\u0430\u043c \u043c\u043e\u0433\u0443\u0442 \u0437\u0430\u043f\u0440\u0435\u0442\u0438\u0442\u044c...   \n",
        "2   3  economics  \u0412 \u041f\u0435\u043d\u0441\u0438\u043e\u043d\u043d\u043e\u043c \u0444\u043e\u043d\u0434\u0435 \u0420\u043e\u0441\u0441\u0438\u0438 (\u041f\u0424\u0420) \u0440\u0430\u0441\u0441\u043a\u0430\u0437\u0430\u043b\u0438 \u043e \u0440...   \n",
        "3   4  economics  \u0420\u043e\u0441\u0441\u0438\u0439\u0441\u043a\u0443\u044e \u044d\u043a\u043e\u043d\u043e\u043c\u0438\u043a\u0443 \u0441\u0442\u0430\u043b\u043e \u0437\u0430\u043c\u0435\u0442\u043d\u043e \u043c\u0435\u043d\u044c\u0448\u0435 \u00ab\u043a\u043e\u043b...   \n",
        "4   5  economics  \u0420\u043e\u0441\u0441\u0438\u0439\u0441\u043a\u0438\u0435 \u043e\u0431\u043e\u0440\u043e\u043d\u043d\u044b\u0435 \u043a\u043e\u043c\u043f\u0430\u043d\u0438\u0438 \u0432\u044b\u0448\u043b\u0438 \u043d\u0430 \u0432\u0442\u043e\u0440\u043e\u0435 ...   \n",
        "\n",
        "                                                 url  \n",
        "0         https://lenta.ru/news/2018/12/10/strategy/  \n",
        "1  https://lenta.ru/news/2018/12/10/pay_like_russ...  \n",
        "2           https://lenta.ru/news/2018/12/10/pensia/  \n",
        "3             https://lenta.ru/news/2018/12/08/neft/  \n",
        "4            https://lenta.ru/news/2018/12/10/oruzh/  "
       ]
      }
     ],
     "prompt_number": 43
    },
    {
     "cell_type": "code",
     "collapsed": false,
     "input": [
      "textes = articls['text']\n",
      "labels = articls['category']\n",
      "my_dict = {'economics': 0, 'science': 1, 'culture': 2, 'sport': 3, 'travel': 4}\n",
      "labels = labels.apply(lambda cat: my_dict[cat])"
     ],
     "language": "python",
     "metadata": {},
     "outputs": [],
     "prompt_number": 44
    },
    {
     "cell_type": "code",
     "collapsed": false,
     "input": [
      "arr_textes = []\n",
      "for text in textes:\n",
      "    tokens = nltk.word_tokenize(text)\n",
      "    tokens = [i for i in tokens if ( i not in string.punctuation )]\n",
      "    #tokens = [i.replace(\"\u00ab\", \"\").replace(\"\u00bb\", \"\") for i in tokens]\n",
      "    words = [morph.parse(token)[0].normal_form for token in tokens]\n",
      "    my_string =' '.join(words)\n",
      "    arr_textes.append(my_string)\n",
      "    \n",
      "arr_textes = pd.Series(arr_textes)"
     ],
     "language": "python",
     "metadata": {},
     "outputs": [],
     "prompt_number": 45
    },
    {
     "cell_type": "code",
     "collapsed": false,
     "input": [
      "count_vect = CountVectorizer()\n",
      "bags = count_vect.fit_transform(arr_textes)\n",
      "bags = pd.DataFrame(bags.todense(), columns=count_vect.vocabulary_)\n",
      "data = bags.copy()\n",
      "data.head()"
     ],
     "language": "python",
     "metadata": {},
     "outputs": [
      {
       "html": [
        "<div style=\"max-width:1500px;overflow:auto;\">\n",
        "<style scoped>\n",
        "    .dataframe tbody tr th:only-of-type {\n",
        "        vertical-align: middle;\n",
        "    }\n",
        "\n",
        "    .dataframe tbody tr th {\n",
        "        vertical-align: top;\n",
        "    }\n",
        "\n",
        "    .dataframe thead th {\n",
        "        text-align: right;\n",
        "    }\n",
        "</style>\n",
        "<table border=\"1\" class=\"dataframe\">\n",
        "  <thead>\n",
        "    <tr style=\"text-align: right;\">\n",
        "      <th></th>\n",
        "      <th>\u043a\u0435\u043a\u0441</th>\n",
        "      <th>\u0441\u0443\u0442\u043a\u0438</th>\n",
        "      <th>\u0432\u044b\u0440\u0443\u0431\u043a\u0430</th>\n",
        "      <th>\u043d\u043e\u0440\u043c\u0430\u043b\u044c\u043d\u044b\u0439</th>\n",
        "      <th>\u0441\u0438\u0441\u0442\u0435\u043c\u044b</th>\n",
        "      <th>\u0432\u0435\u0441\u043e\u0432\u043e\u0439</th>\n",
        "      <th>\u0440\u0435\u0432\u043d\u043e\u0432\u0430\u0442\u044c</th>\n",
        "      <th>\u0430\u043d\u043a\u0438\u0442</th>\n",
        "      <th>\u0437\u0430\u0447\u0451\u0442</th>\n",
        "      <th>\u043e\u043b\u044c\u0433\u0430</th>\n",
        "      <th>...</th>\n",
        "      <th>\u0432\u044b\u0441\u0442\u0443\u043f\u0438\u0442\u044c</th>\n",
        "      <th>\u0447\u0451\u0440\u0442</th>\n",
        "      <th>\u044f\u043d\u043a\u0438\u043d\u0443</th>\n",
        "      <th>\u0443\u0449\u0435\u0440\u0431</th>\n",
        "      <th>\u043f\u043e\u043d\u043e\u043c\u0430\u0440\u0435\u0432</th>\n",
        "      <th>\u043d\u043e\u0432\u043e\u0441\u0438\u0431\u0438\u0440\u0441\u043a\u0435</th>\n",
        "      <th>urals</th>\n",
        "      <th>\u0430\u0433\u0440\u0435\u0441\u0441\u043e\u0440</th>\n",
        "      <th>\u0443\u0441\u0438\u043b\u0435\u043d\u043d\u044b\u0439</th>\n",
        "      <th>\u043f\u043e\u0441\u0440\u0435\u0434\u0438</th>\n",
        "    </tr>\n",
        "  </thead>\n",
        "  <tbody>\n",
        "    <tr>\n",
        "      <th>0</th>\n",
        "      <td>0</td>\n",
        "      <td>0</td>\n",
        "      <td>0</td>\n",
        "      <td>0</td>\n",
        "      <td>0</td>\n",
        "      <td>0</td>\n",
        "      <td>0</td>\n",
        "      <td>0</td>\n",
        "      <td>0</td>\n",
        "      <td>0</td>\n",
        "      <td>...</td>\n",
        "      <td>0</td>\n",
        "      <td>0</td>\n",
        "      <td>0</td>\n",
        "      <td>0</td>\n",
        "      <td>0</td>\n",
        "      <td>0</td>\n",
        "      <td>0</td>\n",
        "      <td>0</td>\n",
        "      <td>0</td>\n",
        "      <td>0</td>\n",
        "    </tr>\n",
        "    <tr>\n",
        "      <th>1</th>\n",
        "      <td>0</td>\n",
        "      <td>0</td>\n",
        "      <td>0</td>\n",
        "      <td>0</td>\n",
        "      <td>0</td>\n",
        "      <td>0</td>\n",
        "      <td>0</td>\n",
        "      <td>0</td>\n",
        "      <td>0</td>\n",
        "      <td>0</td>\n",
        "      <td>...</td>\n",
        "      <td>0</td>\n",
        "      <td>0</td>\n",
        "      <td>0</td>\n",
        "      <td>0</td>\n",
        "      <td>0</td>\n",
        "      <td>0</td>\n",
        "      <td>0</td>\n",
        "      <td>0</td>\n",
        "      <td>0</td>\n",
        "      <td>0</td>\n",
        "    </tr>\n",
        "    <tr>\n",
        "      <th>2</th>\n",
        "      <td>0</td>\n",
        "      <td>1</td>\n",
        "      <td>0</td>\n",
        "      <td>1</td>\n",
        "      <td>0</td>\n",
        "      <td>0</td>\n",
        "      <td>0</td>\n",
        "      <td>0</td>\n",
        "      <td>0</td>\n",
        "      <td>0</td>\n",
        "      <td>...</td>\n",
        "      <td>0</td>\n",
        "      <td>0</td>\n",
        "      <td>0</td>\n",
        "      <td>0</td>\n",
        "      <td>0</td>\n",
        "      <td>0</td>\n",
        "      <td>0</td>\n",
        "      <td>0</td>\n",
        "      <td>0</td>\n",
        "      <td>0</td>\n",
        "    </tr>\n",
        "    <tr>\n",
        "      <th>3</th>\n",
        "      <td>0</td>\n",
        "      <td>0</td>\n",
        "      <td>0</td>\n",
        "      <td>0</td>\n",
        "      <td>0</td>\n",
        "      <td>0</td>\n",
        "      <td>0</td>\n",
        "      <td>0</td>\n",
        "      <td>0</td>\n",
        "      <td>0</td>\n",
        "      <td>...</td>\n",
        "      <td>0</td>\n",
        "      <td>0</td>\n",
        "      <td>0</td>\n",
        "      <td>0</td>\n",
        "      <td>0</td>\n",
        "      <td>0</td>\n",
        "      <td>0</td>\n",
        "      <td>0</td>\n",
        "      <td>0</td>\n",
        "      <td>0</td>\n",
        "    </tr>\n",
        "    <tr>\n",
        "      <th>4</th>\n",
        "      <td>0</td>\n",
        "      <td>0</td>\n",
        "      <td>0</td>\n",
        "      <td>0</td>\n",
        "      <td>0</td>\n",
        "      <td>0</td>\n",
        "      <td>1</td>\n",
        "      <td>0</td>\n",
        "      <td>0</td>\n",
        "      <td>0</td>\n",
        "      <td>...</td>\n",
        "      <td>0</td>\n",
        "      <td>0</td>\n",
        "      <td>0</td>\n",
        "      <td>0</td>\n",
        "      <td>0</td>\n",
        "      <td>0</td>\n",
        "      <td>0</td>\n",
        "      <td>0</td>\n",
        "      <td>0</td>\n",
        "      <td>0</td>\n",
        "    </tr>\n",
        "  </tbody>\n",
        "</table>\n",
        "<p>5 rows \u00d7 8570 columns</p>\n",
        "</div>"
       ],
       "metadata": {},
       "output_type": "pyout",
       "prompt_number": 46,
       "text": [
        "   \u043a\u0435\u043a\u0441  \u0441\u0443\u0442\u043a\u0438  \u0432\u044b\u0440\u0443\u0431\u043a\u0430  \u043d\u043e\u0440\u043c\u0430\u043b\u044c\u043d\u044b\u0439  \u0441\u0438\u0441\u0442\u0435\u043c\u044b  \u0432\u0435\u0441\u043e\u0432\u043e\u0439  \u0440\u0435\u0432\u043d\u043e\u0432\u0430\u0442\u044c  \u0430\u043d\u043a\u0438\u0442  \\\n",
        "0     0      0        0           0        0        0          0      0   \n",
        "1     0      0        0           0        0        0          0      0   \n",
        "2     0      1        0           1        0        0          0      0   \n",
        "3     0      0        0           0        0        0          0      0   \n",
        "4     0      0        0           0        0        0          1      0   \n",
        "\n",
        "   \u0437\u0430\u0447\u0451\u0442  \u043e\u043b\u044c\u0433\u0430   ...     \u0432\u044b\u0441\u0442\u0443\u043f\u0438\u0442\u044c  \u0447\u0451\u0440\u0442  \u044f\u043d\u043a\u0438\u043d\u0443  \u0443\u0449\u0435\u0440\u0431  \u043f\u043e\u043d\u043e\u043c\u0430\u0440\u0435\u0432  \\\n",
        "0      0      0   ...             0     0       0      0          0   \n",
        "1      0      0   ...             0     0       0      0          0   \n",
        "2      0      0   ...             0     0       0      0          0   \n",
        "3      0      0   ...             0     0       0      0          0   \n",
        "4      0      0   ...             0     0       0      0          0   \n",
        "\n",
        "   \u043d\u043e\u0432\u043e\u0441\u0438\u0431\u0438\u0440\u0441\u043a\u0435  urals  \u0430\u0433\u0440\u0435\u0441\u0441\u043e\u0440  \u0443\u0441\u0438\u043b\u0435\u043d\u043d\u044b\u0439  \u043f\u043e\u0441\u0440\u0435\u0434\u0438  \n",
        "0             0      0         0          0        0  \n",
        "1             0      0         0          0        0  \n",
        "2             0      0         0          0        0  \n",
        "3             0      0         0          0        0  \n",
        "4             0      0         0          0        0  \n",
        "\n",
        "[5 rows x 8570 columns]"
       ]
      }
     ],
     "prompt_number": 46
    },
    {
     "cell_type": "code",
     "collapsed": false,
     "input": [
      "data.shape"
     ],
     "language": "python",
     "metadata": {},
     "outputs": [
      {
       "metadata": {},
       "output_type": "pyout",
       "prompt_number": 47,
       "text": [
        "(259, 8570)"
       ]
      }
     ],
     "prompt_number": 47
    },
    {
     "cell_type": "code",
     "collapsed": false,
     "input": [
      "models = [LogisticRegression(), KNeighborsClassifier(), DecisionTreeClassifier(), RandomForestClassifier()]\n",
      "for model in models:\n",
      "    scores = cross_val_score(model, data, labels, cv=5)\n",
      "    print(str(model)[:12] + ': ' + str(scores.mean()))"
     ],
     "language": "python",
     "metadata": {},
     "outputs": [
      {
       "output_type": "stream",
       "stream": "stdout",
       "text": [
        "LogisticRegr: 0.864592825164\n",
        "KNeighborsCl: 0.566481307053"
       ]
      },
      {
       "output_type": "stream",
       "stream": "stdout",
       "text": [
        "\n",
        "DecisionTree: 0.636547706262"
       ]
      },
      {
       "output_type": "stream",
       "stream": "stderr",
       "text": [
        "/usr/local/lib/python2.7/dist-packages/sklearn/linear_model/logistic.py:432: FutureWarning: Default solver will be changed to 'lbfgs' in 0.22. Specify a solver to silence this warning.\n",
        "  FutureWarning)\n",
        "/usr/local/lib/python2.7/dist-packages/sklearn/linear_model/logistic.py:459: FutureWarning: Default multi_class will be changed to 'auto' in 0.22. Specify the multi_class option to silence this warning.\n",
        "  \"this warning.\", FutureWarning)\n",
        "/usr/local/lib/python2.7/dist-packages/sklearn/ensemble/forest.py:248: FutureWarning: The default value of n_estimators will change from 10 in version 0.20 to 100 in 0.22.\n",
        "  \"10 in version 0.20 to 100 in 0.22.\", FutureWarning)\n"
       ]
      },
      {
       "output_type": "stream",
       "stream": "stdout",
       "text": [
        "\n",
        "RandomForest: 0.701653003082"
       ]
      },
      {
       "output_type": "stream",
       "stream": "stdout",
       "text": [
        "\n"
       ]
      }
     ],
     "prompt_number": 48
    },
    {
     "cell_type": "code",
     "collapsed": false,
     "input": [
      "from nltk.corpus import stopwords\n",
      "import nltk\n",
      "nltk.download('stopwords')\n",
      "stop = set(stopwords.words('russian'))\n"
     ],
     "language": "python",
     "metadata": {},
     "outputs": [
      {
       "output_type": "stream",
       "stream": "stdout",
       "text": [
        "[nltk_data] Downloading package stopwords to /home/ilja/nltk_data...\n",
        "[nltk_data]   Package stopwords is already up-to-date!\n"
       ]
      }
     ],
     "prompt_number": 49
    },
    {
     "cell_type": "code",
     "collapsed": false,
     "input": [
      "columns = []\n",
      "for i in data.columns:\n",
      "    if i in stop:\n",
      "        columns.append(i)\n",
      "data = data.drop(columns, axis=1)\n",
      "data.shape"
     ],
     "language": "python",
     "metadata": {},
     "outputs": [
      {
       "metadata": {},
       "output_type": "pyout",
       "prompt_number": 50,
       "text": [
        "(259, 8472)"
       ]
      }
     ],
     "prompt_number": 50
    },
    {
     "cell_type": "code",
     "collapsed": false,
     "input": [],
     "language": "python",
     "metadata": {},
     "outputs": [],
     "prompt_number": 50
    },
    {
     "cell_type": "code",
     "collapsed": false,
     "input": [
      "data.sum().plot()"
     ],
     "language": "python",
     "metadata": {},
     "outputs": [
      {
       "metadata": {},
       "output_type": "pyout",
       "prompt_number": 51,
       "text": [
        "<matplotlib.axes._subplots.AxesSubplot at 0x7f5822d30b10>"
       ]
      },
      {
       "metadata": {},
       "output_type": "display_data",
       "png": "[encoded data removed]",
       "text": [
        "<matplotlib.figure.Figure at 0x7f585d344290>"
       ]
      }
     ],
     "prompt_number": 51
    },
    {
     "cell_type": "code",
     "collapsed": false,
     "input": [
      "model = LogisticRegression()\n",
      "scores = cross_val_score(model, data, labels, cv=5)\n",
      "print(str(model)[:12] + ': ' + str(scores.mean()))"
     ],
     "language": "python",
     "metadata": {},
     "outputs": [
      {
       "output_type": "stream",
       "stream": "stdout",
       "text": [
        "LogisticRegr: 0.864592825164\n"
       ]
      }
     ],
     "prompt_number": 52
    },
    {
     "cell_type": "code",
     "collapsed": false,
     "input": [
      "data = bags.copy()\n",
      "columns = []\n",
      "for i in data.columns:\n",
      "    if data[i].sum() > 50:\n",
      "        columns.append(i)\n",
      "data = data.drop(columns, axis=1)\n",
      "data.shape"
     ],
     "language": "python",
     "metadata": {},
     "outputs": [
      {
       "metadata": {},
       "output_type": "pyout",
       "prompt_number": 53,
       "text": [
        "(259, 8490)"
       ]
      }
     ],
     "prompt_number": 53
    },
    {
     "cell_type": "code",
     "collapsed": false,
     "input": [
      "data.sum().plot()"
     ],
     "language": "python",
     "metadata": {},
     "outputs": [
      {
       "metadata": {},
       "output_type": "pyout",
       "prompt_number": 54,
       "text": [
        "<matplotlib.axes._subplots.AxesSubplot at 0x7f582396c450>"
       ]
      },
      {
       "metadata": {},
       "output_type": "display_data",
       "png": "[encoded data removed]",
       "text": [
        "<matplotlib.figure.Figure at 0x7f5822bd6f90>"
       ]
      }
     ],
     "prompt_number": 54
    },
    {
     "cell_type": "code",
     "collapsed": false,
     "input": [
      "model = LogisticRegression()\n",
      "scores = cross_val_score(model, data, labels, cv=5)\n",
      "print(str(model)[:12] + ': ' + str(scores.mean()))"
     ],
     "language": "python",
     "metadata": {},
     "outputs": [
      {
       "output_type": "stream",
       "stream": "stdout",
       "text": [
        "LogisticRegr: 0.918495959067\n"
       ]
      }
     ],
     "prompt_number": 55
    },
    {
     "cell_type": "code",
     "collapsed": false,
     "input": [
      "bags = data.copy()\n",
      "t_vect = TfidfVectorizer()\n",
      "bags_t =t_vect.fit_transform(textes)\n",
      "bags_t = pd.DataFrame(bags_t.todense(), columns=t_vect.vocabulary_)\n",
      "data_t = bags_t.copy()\n"
     ],
     "language": "python",
     "metadata": {},
     "outputs": [],
     "prompt_number": 56
    },
    {
     "cell_type": "code",
     "collapsed": false,
     "input": [
      "model = LogisticRegression()\n",
      "scores = cross_val_score(model, data_t, labels, cv=5)\n",
      "print(str(model)[:12] + ': ' + str(scores.mean()))"
     ],
     "language": "python",
     "metadata": {},
     "outputs": [
      {
       "output_type": "stream",
       "stream": "stdout",
       "text": [
        "LogisticRegr: 0.721592185592\n"
       ]
      }
     ],
     "prompt_number": 57
    },
    {
     "cell_type": "code",
     "collapsed": false,
     "input": [
      "count_vect_b = CountVectorizer(ngram_range=(2, 2))\n",
      "bags_b = count_vect_b.fit_transform(textes)\n",
      "bags_b = pd.DataFrame(bags_b.todense(), columns=count_vect_b.vocabulary_)\n",
      "data_b = bags_b.copy()\n",
      "data_b.head()"
     ],
     "language": "python",
     "metadata": {},
     "outputs": [
      {
       "html": [
        "<div style=\"max-width:1500px;overflow:auto;\">\n",
        "<style scoped>\n",
        "    .dataframe tbody tr th:only-of-type {\n",
        "        vertical-align: middle;\n",
        "    }\n",
        "\n",
        "    .dataframe tbody tr th {\n",
        "        vertical-align: top;\n",
        "    }\n",
        "\n",
        "    .dataframe thead th {\n",
        "        text-align: right;\n",
        "    }\n",
        "</style>\n",
        "<table border=\"1\" class=\"dataframe\">\n",
        "  <thead>\n",
        "    <tr style=\"text-align: right;\">\n",
        "      <th></th>\n",
        "      <th>dinn the</th>\n",
        "      <th>\u0440\u043e\u0441\u0441\u0438\u0438 \u0441\u0440\u0430\u0432\u043d\u0438\u0442\u0435\u043b\u044c\u043d\u043e</th>\n",
        "      <th>\u0430\u0444\u0433\u0430\u043d\u0438\u0441\u0442\u0430\u043d \u0441\u0438\u0440\u0438\u044f</th>\n",
        "      <th>\u0430\u0444\u0433\u0430\u043d\u0438\u0441\u0442\u0430\u043d \u0441\u0438\u0440\u0438\u044e</th>\n",
        "      <th>\u0437\u043e\u043d\u0434\u0438\u0440\u043e\u0432\u0430\u043d\u0438\u044f \u043f\u043e\u043c\u043e\u0449\u044c\u044e</th>\n",
        "      <th>\u043b\u0435\u0433\u0430\u043b\u0438\u0437\u0430\u0446\u0438\u0438 \u043c\u0430\u0440\u0438\u0445\u0443\u0430\u043d\u044b</th>\n",
        "      <th>\u0447\u0442\u043e \u043c\u0443\u0436\u0447\u0438\u043d\u044b</th>\n",
        "      <th>\u043d\u0435\u043e\u0431\u0445\u043e\u0434\u0438\u043c\u043e\u0433\u043e \u043e\u0431\u043e\u0440\u0443\u0434\u043e\u0432\u0430\u043d\u0438\u044f</th>\n",
        "      <th>\u043f\u0440\u0438\u043c\u0435\u0440\u043d\u043e \u043d\u0430</th>\n",
        "      <th>\u0438\u0437 \u043d\u0438\u0433\u0435\u0440\u0438\u0438</th>\n",
        "      <th>...</th>\n",
        "      <th>\u0432\u0441\u0435\u0433\u043e \u043d\u0430\u0440\u0443\u0448\u0430\u043b\u0438</th>\n",
        "      <th>\u043c\u0430\u043a\u043d\u0438\u043b\u0438 \u0440\u043e\u0434\u0438\u043b\u0430</th>\n",
        "      <th>\u043c\u0443\u043b\u044c\u0442\u0438\u043f\u043b\u0435\u0435\u0440\u0430 \u0432\u043e</th>\n",
        "      <th>\u0432\u043d\u0435\u0434\u0440\u0435\u043d\u0438\u044e \u0441\u0438\u0441\u0442\u0435\u043c\u044b</th>\n",
        "      <th>\u043a\u0440\u0430\u0442\u043a\u043e\u0441\u0440\u043e\u0447\u043d\u043e\u0435 \u043d\u043e</th>\n",
        "      <th>\u043d\u0430\u0440\u043a\u043e\u0442\u0438\u0447\u0435\u0441\u043a\u0438\u0445 \u0442\u0430\u0431\u043b\u0435\u0442\u043e\u043a</th>\n",
        "      <th>\u0431\u044b\u043b \u043f\u0435\u0440\u0432\u043e\u0439</th>\n",
        "      <th>\u0432\u043b\u0430\u0441\u0442\u0438 \u0441\u0442\u0440\u0435\u043c\u0438\u043b\u0438\u0441\u044c</th>\n",
        "      <th>\u043e\u0442\u0432\u0435\u0442 \u043d\u0430</th>\n",
        "      <th>\u043f\u0440\u0435\u0434\u0441\u0442\u0430\u0432\u0438\u0442\u0435\u043b\u0438 \u043c\u0438\u043b\u0430\u043d\u0430</th>\n",
        "    </tr>\n",
        "  </thead>\n",
        "  <tbody>\n",
        "    <tr>\n",
        "      <th>0</th>\n",
        "      <td>0</td>\n",
        "      <td>0</td>\n",
        "      <td>0</td>\n",
        "      <td>0</td>\n",
        "      <td>0</td>\n",
        "      <td>0</td>\n",
        "      <td>0</td>\n",
        "      <td>0</td>\n",
        "      <td>0</td>\n",
        "      <td>0</td>\n",
        "      <td>...</td>\n",
        "      <td>0</td>\n",
        "      <td>0</td>\n",
        "      <td>0</td>\n",
        "      <td>0</td>\n",
        "      <td>0</td>\n",
        "      <td>0</td>\n",
        "      <td>0</td>\n",
        "      <td>0</td>\n",
        "      <td>0</td>\n",
        "      <td>0</td>\n",
        "    </tr>\n",
        "    <tr>\n",
        "      <th>1</th>\n",
        "      <td>0</td>\n",
        "      <td>0</td>\n",
        "      <td>0</td>\n",
        "      <td>0</td>\n",
        "      <td>0</td>\n",
        "      <td>0</td>\n",
        "      <td>0</td>\n",
        "      <td>0</td>\n",
        "      <td>0</td>\n",
        "      <td>0</td>\n",
        "      <td>...</td>\n",
        "      <td>0</td>\n",
        "      <td>0</td>\n",
        "      <td>0</td>\n",
        "      <td>0</td>\n",
        "      <td>0</td>\n",
        "      <td>0</td>\n",
        "      <td>0</td>\n",
        "      <td>0</td>\n",
        "      <td>0</td>\n",
        "      <td>0</td>\n",
        "    </tr>\n",
        "    <tr>\n",
        "      <th>2</th>\n",
        "      <td>0</td>\n",
        "      <td>0</td>\n",
        "      <td>1</td>\n",
        "      <td>0</td>\n",
        "      <td>1</td>\n",
        "      <td>0</td>\n",
        "      <td>0</td>\n",
        "      <td>0</td>\n",
        "      <td>0</td>\n",
        "      <td>0</td>\n",
        "      <td>...</td>\n",
        "      <td>0</td>\n",
        "      <td>0</td>\n",
        "      <td>0</td>\n",
        "      <td>0</td>\n",
        "      <td>0</td>\n",
        "      <td>0</td>\n",
        "      <td>0</td>\n",
        "      <td>0</td>\n",
        "      <td>0</td>\n",
        "      <td>0</td>\n",
        "    </tr>\n",
        "    <tr>\n",
        "      <th>3</th>\n",
        "      <td>0</td>\n",
        "      <td>0</td>\n",
        "      <td>0</td>\n",
        "      <td>0</td>\n",
        "      <td>0</td>\n",
        "      <td>0</td>\n",
        "      <td>0</td>\n",
        "      <td>0</td>\n",
        "      <td>0</td>\n",
        "      <td>0</td>\n",
        "      <td>...</td>\n",
        "      <td>0</td>\n",
        "      <td>0</td>\n",
        "      <td>0</td>\n",
        "      <td>0</td>\n",
        "      <td>0</td>\n",
        "      <td>0</td>\n",
        "      <td>0</td>\n",
        "      <td>0</td>\n",
        "      <td>0</td>\n",
        "      <td>0</td>\n",
        "    </tr>\n",
        "    <tr>\n",
        "      <th>4</th>\n",
        "      <td>0</td>\n",
        "      <td>0</td>\n",
        "      <td>0</td>\n",
        "      <td>0</td>\n",
        "      <td>0</td>\n",
        "      <td>0</td>\n",
        "      <td>0</td>\n",
        "      <td>0</td>\n",
        "      <td>0</td>\n",
        "      <td>0</td>\n",
        "      <td>...</td>\n",
        "      <td>0</td>\n",
        "      <td>0</td>\n",
        "      <td>0</td>\n",
        "      <td>0</td>\n",
        "      <td>0</td>\n",
        "      <td>0</td>\n",
        "      <td>0</td>\n",
        "      <td>0</td>\n",
        "      <td>0</td>\n",
        "      <td>0</td>\n",
        "    </tr>\n",
        "  </tbody>\n",
        "</table>\n",
        "<p>5 rows \u00d7 33340 columns</p>\n",
        "</div>"
       ],
       "metadata": {},
       "output_type": "pyout",
       "prompt_number": 58,
       "text": [
        "   dinn the  \u0440\u043e\u0441\u0441\u0438\u0438 \u0441\u0440\u0430\u0432\u043d\u0438\u0442\u0435\u043b\u044c\u043d\u043e  \u0430\u0444\u0433\u0430\u043d\u0438\u0441\u0442\u0430\u043d \u0441\u0438\u0440\u0438\u044f  \u0430\u0444\u0433\u0430\u043d\u0438\u0441\u0442\u0430\u043d \u0441\u0438\u0440\u0438\u044e  \\\n",
        "0         0                    0                 0                 0   \n",
        "1         0                    0                 0                 0   \n",
        "2         0                    0                 1                 0   \n",
        "3         0                    0                 0                 0   \n",
        "4         0                    0                 0                 0   \n",
        "\n",
        "   \u0437\u043e\u043d\u0434\u0438\u0440\u043e\u0432\u0430\u043d\u0438\u044f \u043f\u043e\u043c\u043e\u0449\u044c\u044e  \u043b\u0435\u0433\u0430\u043b\u0438\u0437\u0430\u0446\u0438\u0438 \u043c\u0430\u0440\u0438\u0445\u0443\u0430\u043d\u044b  \u0447\u0442\u043e \u043c\u0443\u0436\u0447\u0438\u043d\u044b  \\\n",
        "0                     0                      0            0   \n",
        "1                     0                      0            0   \n",
        "2                     1                      0            0   \n",
        "3                     0                      0            0   \n",
        "4                     0                      0            0   \n",
        "\n",
        "   \u043d\u0435\u043e\u0431\u0445\u043e\u0434\u0438\u043c\u043e\u0433\u043e \u043e\u0431\u043e\u0440\u0443\u0434\u043e\u0432\u0430\u043d\u0438\u044f  \u043f\u0440\u0438\u043c\u0435\u0440\u043d\u043e \u043d\u0430  \u0438\u0437 \u043d\u0438\u0433\u0435\u0440\u0438\u0438          ...           \\\n",
        "0                          0            0           0          ...            \n",
        "1                          0            0           0          ...            \n",
        "2                          0            0           0          ...            \n",
        "3                          0            0           0          ...            \n",
        "4                          0            0           0          ...            \n",
        "\n",
        "   \u0432\u0441\u0435\u0433\u043e \u043d\u0430\u0440\u0443\u0448\u0430\u043b\u0438  \u043c\u0430\u043a\u043d\u0438\u043b\u0438 \u0440\u043e\u0434\u0438\u043b\u0430  \u043c\u0443\u043b\u044c\u0442\u0438\u043f\u043b\u0435\u0435\u0440\u0430 \u0432\u043e  \u0432\u043d\u0435\u0434\u0440\u0435\u043d\u0438\u044e \u0441\u0438\u0441\u0442\u0435\u043c\u044b  \\\n",
        "0               0               0                0                  0   \n",
        "1               0               0                0                  0   \n",
        "2               0               0                0                  0   \n",
        "3               0               0                0                  0   \n",
        "4               0               0                0                  0   \n",
        "\n",
        "   \u043a\u0440\u0430\u0442\u043a\u043e\u0441\u0440\u043e\u0447\u043d\u043e\u0435 \u043d\u043e  \u043d\u0430\u0440\u043a\u043e\u0442\u0438\u0447\u0435\u0441\u043a\u0438\u0445 \u0442\u0430\u0431\u043b\u0435\u0442\u043e\u043a  \u0431\u044b\u043b \u043f\u0435\u0440\u0432\u043e\u0439  \u0432\u043b\u0430\u0441\u0442\u0438 \u0441\u0442\u0440\u0435\u043c\u0438\u043b\u0438\u0441\u044c  \\\n",
        "0                 0                       0           0                  0   \n",
        "1                 0                       0           0                  0   \n",
        "2                 0                       0           0                  0   \n",
        "3                 0                       0           0                  0   \n",
        "4                 0                       0           0                  0   \n",
        "\n",
        "   \u043e\u0442\u0432\u0435\u0442 \u043d\u0430  \u043f\u0440\u0435\u0434\u0441\u0442\u0430\u0432\u0438\u0442\u0435\u043b\u0438 \u043c\u0438\u043b\u0430\u043d\u0430  \n",
        "0         0                     0  \n",
        "1         0                     0  \n",
        "2         0                     0  \n",
        "3         0                     0  \n",
        "4         0                     0  \n",
        "\n",
        "[5 rows x 33340 columns]"
       ]
      }
     ],
     "prompt_number": 58
    },
    {
     "cell_type": "code",
     "collapsed": false,
     "input": [
      "model = LogisticRegression()\n",
      "scores = cross_val_score(model, data_b, labels, cv=5)\n",
      "print(str(model)[:12] + ': ' + str(scores.mean()))"
     ],
     "language": "python",
     "metadata": {},
     "outputs": [
      {
       "output_type": "stream",
       "stream": "stdout",
       "text": [
        "LogisticRegr: 0.730277806849\n"
       ]
      }
     ],
     "prompt_number": 59
    },
    {
     "cell_type": "code",
     "collapsed": false,
     "input": [
      "param_grid = [{'C': [0.5,1,4,8]}]\n",
      "model = LogisticRegression()\n",
      "grid_search = GridSearchCV(model, param_grid, cv=7)\n",
      "grid_search.fit(data, labels)\n",
      "best_model = grid_search.best_estimator_\n",
      "scores = cross_val_score(best_model, data, labels, cv=7)\n",
      "print(str(best_model)[:12] + ': ' + str(scores.mean()))"
     ],
     "language": "python",
     "metadata": {},
     "outputs": [
      {
       "output_type": "stream",
       "stream": "stdout",
       "text": [
        "LogisticRegr: 0.925286392779\n"
       ]
      },
      {
       "output_type": "stream",
       "stream": "stderr",
       "text": [
        "/usr/local/lib/python2.7/dist-packages/sklearn/model_selection/_search.py:841: DeprecationWarning: The default of the `iid` parameter will change from True to False in version 0.22 and will be removed in 0.24. This will change numeric results when test-set sizes are unequal.\n",
        "  DeprecationWarning)\n"
       ]
      }
     ],
     "prompt_number": 60
    },
    {
     "cell_type": "code",
     "collapsed": false,
     "input": [],
     "language": "python",
     "metadata": {},
     "outputs": []
    }
   ],
   "metadata": {}
  }
 ]
}