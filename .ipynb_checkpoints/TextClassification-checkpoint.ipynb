{
 "metadata": {
  "name": "",
  "signature": "sha256:4c46653f5169ad5469859cd92360bf626ee3db8e87fc9596caa763131fbdacf0"
 },
 "nbformat": 3,
 "nbformat_minor": 0,
 "worksheets": [
  {
   "cells": [
    {
     "cell_type": "code",
     "collapsed": false,
     "input": [
      "from sklearn.datasets import fetch_20newsgroups\n",
      "import numpy as np\n",
      "import pandas as pd\n",
      "from tqdm import tqdm_notebook\n",
      "from scipy.sparse import csr_matrix, hstack\n",
      "from sklearn.preprocessing import StandardScaler\n",
      "from sklearn.metrics import roc_auc_score\n",
      "from sklearn.model_selection import cross_val_score\n",
      "from sklearn.model_selection import GridSearchCV\n",
      "from sklearn.linear_model import LogisticRegression\n",
      "from sklearn.feature_extraction.text import CountVectorizer, TfidfVectorizer\n",
      "from sklearn.model_selection import train_test_split\n",
      "%matplotlib inline\n",
      "from matplotlib import pyplot as plt\n",
      "import seaborn as sns\n",
      "import sqlite3\n",
      "import math\n",
      "from sklearn.linear_model import LogisticRegression\n",
      "from sklearn.neighbors import KNeighborsClassifier\n",
      "from sklearn.tree import DecisionTreeClassifier\n",
      "from sklearn.ensemble import RandomForestClassifier"
     ],
     "language": "python",
     "metadata": {},
     "outputs": [],
     "prompt_number": 1
    },
    {
     "cell_type": "code",
     "collapsed": false,
     "input": [
      "conn = sqlite3.connect('text.db')\n",
      "cursor = conn.cursor()\n",
      "cursor.execute('SELECT * FROM textes;')\n",
      "articls = cursor.fetchall()"
     ],
     "language": "python",
     "metadata": {},
     "outputs": [],
     "prompt_number": 2
    },
    {
     "cell_type": "code",
     "collapsed": false,
     "input": [
      "articls = pd.DataFrame(articls, columns=['id', 'category', 'text', 'url'])\n",
      "articls.head()"
     ],
     "language": "python",
     "metadata": {},
     "outputs": [
      {
       "html": [
        "<div style=\"max-width:1500px;overflow:auto;\">\n",
        "<style scoped>\n",
        "    .dataframe tbody tr th:only-of-type {\n",
        "        vertical-align: middle;\n",
        "    }\n",
        "\n",
        "    .dataframe tbody tr th {\n",
        "        vertical-align: top;\n",
        "    }\n",
        "\n",
        "    .dataframe thead th {\n",
        "        text-align: right;\n",
        "    }\n",
        "</style>\n",
        "<table border=\"1\" class=\"dataframe\">\n",
        "  <thead>\n",
        "    <tr style=\"text-align: right;\">\n",
        "      <th></th>\n",
        "      <th>id</th>\n",
        "      <th>category</th>\n",
        "      <th>text</th>\n",
        "      <th>url</th>\n",
        "    </tr>\n",
        "  </thead>\n",
        "  <tbody>\n",
        "    <tr>\n",
        "      <th>0</th>\n",
        "      <td>1</td>\n",
        "      <td>economics</td>\n",
        "      <td>\u0426\u0435\u043d\u044b \u043d\u0430 \u0433\u0430\u0437 \u0432 \u0421\u0428\u0410 \u0432\u0437\u043b\u0435\u0442\u0435\u043b\u0438 \u0431\u043e\u043b\u0435\u0435 \u0447\u0435\u043c \u043d\u0430 40 \u043f\u0440\u043e...</td>\n",
        "      <td>https://lenta.ru/news/2018/11/16/us_rus_gaz/</td>\n",
        "    </tr>\n",
        "    <tr>\n",
        "      <th>1</th>\n",
        "      <td>2</td>\n",
        "      <td>economics</td>\n",
        "      <td>\u041f\u0440\u0435\u0434\u0441\u0442\u0430\u0432\u0438\u0442\u0435\u043b\u0438 \u0442\u043e\u043f\u043b\u0438\u0432\u043d\u043e\u0433\u043e \u0440\u044b\u043d\u043a\u0430 \u043f\u043e\u0436\u0430\u043b\u043e\u0432\u0430\u043b\u0438\u0441\u044c \u043d\u0430...</td>\n",
        "      <td>https://lenta.ru/news/2018/11/15/o4en_ploho_v_...</td>\n",
        "    </tr>\n",
        "    <tr>\n",
        "      <th>2</th>\n",
        "      <td>3</td>\n",
        "      <td>economics</td>\n",
        "      <td>\u041c\u044d\u0440 \u041c\u043e\u0441\u043a\u0432\u044b \u0421\u0435\u0440\u0433\u0435\u0439 \u0421\u043e\u0431\u044f\u043d\u0438\u043d 15 \u043d\u043e\u044f\u0431\u0440\u044f \u043e\u0442\u043a\u0440\u044b\u043b \u043d\u043e\u0432...</td>\n",
        "      <td>https://lenta.ru/news/2018/11/15/rosseti/</td>\n",
        "    </tr>\n",
        "    <tr>\n",
        "      <th>3</th>\n",
        "      <td>4</td>\n",
        "      <td>economics</td>\n",
        "      <td>\u00ab\u0413\u0430\u0437\u043f\u0440\u043e\u043c\u043d\u0435\u0444\u0442\u044c-\u0421\u0430\u0445\u0430\u043b\u0438\u043d\u00bb, \u0434\u043e\u0447\u0435\u0440\u043d\u044f\u044f \u043a\u043e\u043c\u043f\u0430\u043d\u0438\u044f \u00ab\u0413\u0430\u0437...</td>\n",
        "      <td>https://lenta.ru/news/2018/11/15/gazpromneft/</td>\n",
        "    </tr>\n",
        "    <tr>\n",
        "      <th>4</th>\n",
        "      <td>5</td>\n",
        "      <td>economics</td>\n",
        "      <td>\u0413\u043e\u0441\u043a\u043e\u043c\u043f\u0430\u043d\u0438\u0438 \u00ab\u0413\u0430\u0437\u043f\u0440\u043e\u043c\u00bb \u0433\u0440\u043e\u0437\u0438\u0442 \u043c\u043d\u043e\u0433\u043e\u043c\u0438\u043b\u043b\u0438\u0430\u0440\u0434\u043d\u044b\u0439 ...</td>\n",
        "      <td>https://lenta.ru/news/2018/11/15/gaz/</td>\n",
        "    </tr>\n",
        "  </tbody>\n",
        "</table>\n",
        "</div>"
       ],
       "metadata": {},
       "output_type": "pyout",
       "prompt_number": 4,
       "text": [
        "   id   category                                               text  \\\n",
        "0   1  economics  \u0426\u0435\u043d\u044b \u043d\u0430 \u0433\u0430\u0437 \u0432 \u0421\u0428\u0410 \u0432\u0437\u043b\u0435\u0442\u0435\u043b\u0438 \u0431\u043e\u043b\u0435\u0435 \u0447\u0435\u043c \u043d\u0430 40 \u043f\u0440\u043e...   \n",
        "1   2  economics  \u041f\u0440\u0435\u0434\u0441\u0442\u0430\u0432\u0438\u0442\u0435\u043b\u0438 \u0442\u043e\u043f\u043b\u0438\u0432\u043d\u043e\u0433\u043e \u0440\u044b\u043d\u043a\u0430 \u043f\u043e\u0436\u0430\u043b\u043e\u0432\u0430\u043b\u0438\u0441\u044c \u043d\u0430...   \n",
        "2   3  economics  \u041c\u044d\u0440 \u041c\u043e\u0441\u043a\u0432\u044b \u0421\u0435\u0440\u0433\u0435\u0439 \u0421\u043e\u0431\u044f\u043d\u0438\u043d 15 \u043d\u043e\u044f\u0431\u0440\u044f \u043e\u0442\u043a\u0440\u044b\u043b \u043d\u043e\u0432...   \n",
        "3   4  economics  \u00ab\u0413\u0430\u0437\u043f\u0440\u043e\u043c\u043d\u0435\u0444\u0442\u044c-\u0421\u0430\u0445\u0430\u043b\u0438\u043d\u00bb, \u0434\u043e\u0447\u0435\u0440\u043d\u044f\u044f \u043a\u043e\u043c\u043f\u0430\u043d\u0438\u044f \u00ab\u0413\u0430\u0437...   \n",
        "4   5  economics  \u0413\u043e\u0441\u043a\u043e\u043c\u043f\u0430\u043d\u0438\u0438 \u00ab\u0413\u0430\u0437\u043f\u0440\u043e\u043c\u00bb \u0433\u0440\u043e\u0437\u0438\u0442 \u043c\u043d\u043e\u0433\u043e\u043c\u0438\u043b\u043b\u0438\u0430\u0440\u0434\u043d\u044b\u0439 ...   \n",
        "\n",
        "                                                 url  \n",
        "0       https://lenta.ru/news/2018/11/16/us_rus_gaz/  \n",
        "1  https://lenta.ru/news/2018/11/15/o4en_ploho_v_...  \n",
        "2          https://lenta.ru/news/2018/11/15/rosseti/  \n",
        "3      https://lenta.ru/news/2018/11/15/gazpromneft/  \n",
        "4              https://lenta.ru/news/2018/11/15/gaz/  "
       ]
      }
     ],
     "prompt_number": 4
    },
    {
     "cell_type": "code",
     "collapsed": false,
     "input": [
      "textes = articls['text']\n",
      "labels = articls['category']\n",
      "my_dict = {'economics': 0, 'science': 1, 'culture': 2, 'sport': 3, 'travel': 4}\n",
      "labels = labels.apply(lambda cat: my_dict[cat])"
     ],
     "language": "python",
     "metadata": {},
     "outputs": [],
     "prompt_number": 5
    },
    {
     "cell_type": "code",
     "collapsed": false,
     "input": [
      "count_vect = CountVectorizer()\n",
      "bags = count_vect.fit_transform(textes)\n",
      "bags = pd.DataFrame(bags.todense(), columns=count_vect.vocabulary_)\n",
      "data = bags.copy()\n",
      "data.head()"
     ],
     "language": "python",
     "metadata": {},
     "outputs": [
      {
       "html": [
        "<div style=\"max-width:1500px;overflow:auto;\">\n",
        "<style scoped>\n",
        "    .dataframe tbody tr th:only-of-type {\n",
        "        vertical-align: middle;\n",
        "    }\n",
        "\n",
        "    .dataframe tbody tr th {\n",
        "        vertical-align: top;\n",
        "    }\n",
        "\n",
        "    .dataframe thead th {\n",
        "        text-align: right;\n",
        "    }\n",
        "</style>\n",
        "<table border=\"1\" class=\"dataframe\">\n",
        "  <thead>\n",
        "    <tr style=\"text-align: right;\">\n",
        "      <th></th>\n",
        "      <th>\u0441\u0435\u0440\u0435\u043d\u044b</th>\n",
        "      <th>\u0440\u0430\u043f\u043f\u043e\u043f\u043e\u0440\u0442</th>\n",
        "      <th>\u0441\u0443\u0442\u043a\u0438</th>\n",
        "      <th>\u0440\u0430\u0441\u0442\u0435\u043d\u0438\u0439</th>\n",
        "      <th>\u043f\u0440\u0438\u0433\u043e\u0442\u043e\u0432\u043b\u0435\u043d\u043d\u043e\u0435</th>\n",
        "      <th>\u0441\u0438\u0441\u0442\u0435\u043c\u044b</th>\n",
        "      <th>\u043d\u043e\u0440\u043c\u0430\u043b\u044c\u043d\u044b\u043c</th>\n",
        "      <th>francesco</th>\n",
        "      <th>\u0440\u0435\u0433\u0438\u043e\u043d\u0430\u043b\u044c\u043d\u044b\u0445</th>\n",
        "      <th>\u0441\u0438\u0441\u0442\u0435\u043c\u0443</th>\n",
        "      <th>...</th>\n",
        "      <th>\u0441\u043f\u0440\u043e\u0441\u0430</th>\n",
        "      <th>\u0441\u043e\u0432\u0440\u0435\u043c\u0435\u043d\u043d\u043e\u0439</th>\n",
        "      <th>jewel</th>\n",
        "      <th>\u043d\u043e\u0432\u043e\u0441\u0438\u0431\u0438\u0440\u0441\u043a\u0430</th>\n",
        "      <th>\u043d\u0443\u0440\u043c\u0430\u0433\u043e\u043c\u0435\u0434\u043e\u0432\u0430</th>\n",
        "      <th>\u0437\u0430\u043f\u0443\u0441\u0442\u0438\u0442</th>\n",
        "      <th>\u0440\u0435\u0433\u043b\u0430\u043c\u0435\u043d\u0442\u043e\u0432</th>\n",
        "      <th>\u0440\u0430\u0439\u0444\u0444\u0430\u0439\u0437\u0435\u043d\u0431\u0430\u043d\u043a\u0430</th>\n",
        "      <th>\u043e\u043c\u0441\u043a\u0435</th>\n",
        "      <th>\u0441\u043a\u043b\u0430\u0434\u044b\u0432\u0430\u0435\u0442\u0441\u044f</th>\n",
        "    </tr>\n",
        "  </thead>\n",
        "  <tbody>\n",
        "    <tr>\n",
        "      <th>0</th>\n",
        "      <td>0</td>\n",
        "      <td>0</td>\n",
        "      <td>0</td>\n",
        "      <td>0</td>\n",
        "      <td>0</td>\n",
        "      <td>0</td>\n",
        "      <td>0</td>\n",
        "      <td>0</td>\n",
        "      <td>0</td>\n",
        "      <td>0</td>\n",
        "      <td>...</td>\n",
        "      <td>0</td>\n",
        "      <td>0</td>\n",
        "      <td>0</td>\n",
        "      <td>0</td>\n",
        "      <td>0</td>\n",
        "      <td>0</td>\n",
        "      <td>0</td>\n",
        "      <td>0</td>\n",
        "      <td>0</td>\n",
        "      <td>0</td>\n",
        "    </tr>\n",
        "    <tr>\n",
        "      <th>1</th>\n",
        "      <td>0</td>\n",
        "      <td>0</td>\n",
        "      <td>0</td>\n",
        "      <td>0</td>\n",
        "      <td>0</td>\n",
        "      <td>0</td>\n",
        "      <td>0</td>\n",
        "      <td>0</td>\n",
        "      <td>0</td>\n",
        "      <td>0</td>\n",
        "      <td>...</td>\n",
        "      <td>0</td>\n",
        "      <td>0</td>\n",
        "      <td>0</td>\n",
        "      <td>0</td>\n",
        "      <td>0</td>\n",
        "      <td>0</td>\n",
        "      <td>0</td>\n",
        "      <td>0</td>\n",
        "      <td>0</td>\n",
        "      <td>0</td>\n",
        "    </tr>\n",
        "    <tr>\n",
        "      <th>2</th>\n",
        "      <td>0</td>\n",
        "      <td>0</td>\n",
        "      <td>0</td>\n",
        "      <td>0</td>\n",
        "      <td>0</td>\n",
        "      <td>0</td>\n",
        "      <td>0</td>\n",
        "      <td>0</td>\n",
        "      <td>0</td>\n",
        "      <td>0</td>\n",
        "      <td>...</td>\n",
        "      <td>0</td>\n",
        "      <td>0</td>\n",
        "      <td>0</td>\n",
        "      <td>0</td>\n",
        "      <td>0</td>\n",
        "      <td>0</td>\n",
        "      <td>0</td>\n",
        "      <td>0</td>\n",
        "      <td>0</td>\n",
        "      <td>0</td>\n",
        "    </tr>\n",
        "    <tr>\n",
        "      <th>3</th>\n",
        "      <td>0</td>\n",
        "      <td>0</td>\n",
        "      <td>0</td>\n",
        "      <td>0</td>\n",
        "      <td>0</td>\n",
        "      <td>0</td>\n",
        "      <td>0</td>\n",
        "      <td>0</td>\n",
        "      <td>0</td>\n",
        "      <td>0</td>\n",
        "      <td>...</td>\n",
        "      <td>0</td>\n",
        "      <td>0</td>\n",
        "      <td>0</td>\n",
        "      <td>0</td>\n",
        "      <td>0</td>\n",
        "      <td>0</td>\n",
        "      <td>0</td>\n",
        "      <td>0</td>\n",
        "      <td>0</td>\n",
        "      <td>0</td>\n",
        "    </tr>\n",
        "    <tr>\n",
        "      <th>4</th>\n",
        "      <td>0</td>\n",
        "      <td>0</td>\n",
        "      <td>0</td>\n",
        "      <td>0</td>\n",
        "      <td>0</td>\n",
        "      <td>0</td>\n",
        "      <td>0</td>\n",
        "      <td>0</td>\n",
        "      <td>0</td>\n",
        "      <td>0</td>\n",
        "      <td>...</td>\n",
        "      <td>0</td>\n",
        "      <td>0</td>\n",
        "      <td>0</td>\n",
        "      <td>0</td>\n",
        "      <td>0</td>\n",
        "      <td>0</td>\n",
        "      <td>0</td>\n",
        "      <td>0</td>\n",
        "      <td>0</td>\n",
        "      <td>0</td>\n",
        "    </tr>\n",
        "  </tbody>\n",
        "</table>\n",
        "<p>5 rows \u00d7 14325 columns</p>\n",
        "</div>"
       ],
       "metadata": {},
       "output_type": "pyout",
       "prompt_number": 6,
       "text": [
        "   \u0441\u0435\u0440\u0435\u043d\u044b  \u0440\u0430\u043f\u043f\u043e\u043f\u043e\u0440\u0442  \u0441\u0443\u0442\u043a\u0438  \u0440\u0430\u0441\u0442\u0435\u043d\u0438\u0439  \u043f\u0440\u0438\u0433\u043e\u0442\u043e\u0432\u043b\u0435\u043d\u043d\u043e\u0435  \u0441\u0438\u0441\u0442\u0435\u043c\u044b  \u043d\u043e\u0440\u043c\u0430\u043b\u044c\u043d\u044b\u043c  \\\n",
        "0       0          0      0         0               0        0           0   \n",
        "1       0          0      0         0               0        0           0   \n",
        "2       0          0      0         0               0        0           0   \n",
        "3       0          0      0         0               0        0           0   \n",
        "4       0          0      0         0               0        0           0   \n",
        "\n",
        "   francesco  \u0440\u0435\u0433\u0438\u043e\u043d\u0430\u043b\u044c\u043d\u044b\u0445  \u0441\u0438\u0441\u0442\u0435\u043c\u0443      ...       \u0441\u043f\u0440\u043e\u0441\u0430  \u0441\u043e\u0432\u0440\u0435\u043c\u0435\u043d\u043d\u043e\u0439  jewel  \\\n",
        "0          0             0        0      ...            0            0      0   \n",
        "1          0             0        0      ...            0            0      0   \n",
        "2          0             0        0      ...            0            0      0   \n",
        "3          0             0        0      ...            0            0      0   \n",
        "4          0             0        0      ...            0            0      0   \n",
        "\n",
        "   \u043d\u043e\u0432\u043e\u0441\u0438\u0431\u0438\u0440\u0441\u043a\u0430  \u043d\u0443\u0440\u043c\u0430\u0433\u043e\u043c\u0435\u0434\u043e\u0432\u0430  \u0437\u0430\u043f\u0443\u0441\u0442\u0438\u0442  \u0440\u0435\u0433\u043b\u0430\u043c\u0435\u043d\u0442\u043e\u0432  \u0440\u0430\u0439\u0444\u0444\u0430\u0439\u0437\u0435\u043d\u0431\u0430\u043d\u043a\u0430  \u043e\u043c\u0441\u043a\u0435  \\\n",
        "0             0              0         0            0                0      0   \n",
        "1             0              0         0            0                0      0   \n",
        "2             0              0         0            0                0      0   \n",
        "3             0              0         0            0                0      0   \n",
        "4             0              0         0            0                0      0   \n",
        "\n",
        "   \u0441\u043a\u043b\u0430\u0434\u044b\u0432\u0430\u0435\u0442\u0441\u044f  \n",
        "0             0  \n",
        "1             0  \n",
        "2             0  \n",
        "3             0  \n",
        "4             0  \n",
        "\n",
        "[5 rows x 14325 columns]"
       ]
      }
     ],
     "prompt_number": 6
    },
    {
     "cell_type": "code",
     "collapsed": false,
     "input": [
      "data.shape"
     ],
     "language": "python",
     "metadata": {},
     "outputs": [
      {
       "metadata": {},
       "output_type": "pyout",
       "prompt_number": 7,
       "text": [
        "(265, 14325)"
       ]
      }
     ],
     "prompt_number": 7
    },
    {
     "cell_type": "code",
     "collapsed": false,
     "input": [
      "models = [LogisticRegression(), KNeighborsClassifier(), DecisionTreeClassifier(), RandomForestClassifier()]\n",
      "for model in models:\n",
      "    scores = cross_val_score(model, data, labels, cv=5)\n",
      "    print(str(model)[:12] + ': ' + str(scores.mean()))"
     ],
     "language": "python",
     "metadata": {},
     "outputs": [
      {
       "output_type": "stream",
       "stream": "stdout",
       "text": [
        "LogisticRegr: 0.811278699514\n",
        "KNeighborsCl: 0.400729009553"
       ]
      },
      {
       "output_type": "stream",
       "stream": "stdout",
       "text": [
        "\n",
        "DecisionTree: 0.558362661304"
       ]
      },
      {
       "output_type": "stream",
       "stream": "stderr",
       "text": [
        "/usr/local/lib/python2.7/dist-packages/sklearn/linear_model/logistic.py:432: FutureWarning: Default solver will be changed to 'lbfgs' in 0.22. Specify a solver to silence this warning.\n",
        "  FutureWarning)\n",
        "/usr/local/lib/python2.7/dist-packages/sklearn/linear_model/logistic.py:459: FutureWarning: Default multi_class will be changed to 'auto' in 0.22. Specify the multi_class option to silence this warning.\n",
        "  \"this warning.\", FutureWarning)\n",
        "/usr/local/lib/python2.7/dist-packages/sklearn/ensemble/forest.py:248: FutureWarning: The default value of n_estimators will change from 10 in version 0.20 to 100 in 0.22.\n",
        "  \"10 in version 0.20 to 100 in 0.22.\", FutureWarning)\n"
       ]
      },
      {
       "output_type": "stream",
       "stream": "stdout",
       "text": [
        "\n",
        "RandomForest: 0.589433551198"
       ]
      },
      {
       "output_type": "stream",
       "stream": "stdout",
       "text": [
        "\n"
       ]
      }
     ],
     "prompt_number": 8
    },
    {
     "cell_type": "code",
     "collapsed": false,
     "input": [
      "from nltk.corpus import stopwords\n",
      "import nltk\n",
      "nltk.download('stopwords')\n",
      "stop = set(stopwords.words('russian'))"
     ],
     "language": "python",
     "metadata": {},
     "outputs": [
      {
       "output_type": "stream",
       "stream": "stdout",
       "text": [
        "[nltk_data] Error loading stopwords: <urlopen error [Errno -3]\n",
        "[nltk_data]     Temporary failure in name resolution>\n"
       ]
      }
     ],
     "prompt_number": 9
    },
    {
     "cell_type": "code",
     "collapsed": false,
     "input": [
      "columns = []\n",
      "for i in data.columns:\n",
      "    if i in stop:\n",
      "        columns.append(i)\n",
      "data = data.drop(columns, axis=1)\n",
      "data.shape"
     ],
     "language": "python",
     "metadata": {},
     "outputs": [
      {
       "metadata": {},
       "output_type": "pyout",
       "prompt_number": 10,
       "text": [
        "(265, 14188)"
       ]
      }
     ],
     "prompt_number": 10
    },
    {
     "cell_type": "code",
     "collapsed": false,
     "input": [],
     "language": "python",
     "metadata": {},
     "outputs": [],
     "prompt_number": 10
    },
    {
     "cell_type": "code",
     "collapsed": false,
     "input": [
      "data.sum().plot()"
     ],
     "language": "python",
     "metadata": {},
     "outputs": [
      {
       "metadata": {},
       "output_type": "pyout",
       "prompt_number": 11,
       "text": [
        "<matplotlib.axes._subplots.AxesSubplot at 0x7f2fe4ec9c90>"
       ]
      },
      {
       "metadata": {},
       "output_type": "display_data",
       "png": "[encoded data removed]",
       "text": [
        "<matplotlib.figure.Figure at 0x7f30213a2e50>"
       ]
      }
     ],
     "prompt_number": 11
    },
    {
     "cell_type": "code",
     "collapsed": false,
     "input": [
      "model = LogisticRegression()\n",
      "scores = cross_val_score(model, data, labels, cv=5)\n",
      "print(str(model)[:12] + ': ' + str(scores.mean()))"
     ],
     "language": "python",
     "metadata": {},
     "outputs": [
      {
       "output_type": "stream",
       "stream": "stdout",
       "text": [
        "LogisticRegr: 0.79944695827\n"
       ]
      }
     ],
     "prompt_number": 12
    },
    {
     "cell_type": "code",
     "collapsed": false,
     "input": [
      "data = bags.copy()\n",
      "columns = []\n",
      "for i in data.columns:\n",
      "    if data[i].sum() > 50:\n",
      "        columns.append(i)\n",
      "data = data.drop(columns, axis=1)\n",
      "data.shape"
     ],
     "language": "python",
     "metadata": {},
     "outputs": [
      {
       "metadata": {},
       "output_type": "pyout",
       "prompt_number": 13,
       "text": [
        "(265, 14135)"
       ]
      }
     ],
     "prompt_number": 13
    },
    {
     "cell_type": "code",
     "collapsed": false,
     "input": [
      "data.sum().plot()"
     ],
     "language": "python",
     "metadata": {},
     "outputs": [
      {
       "metadata": {},
       "output_type": "pyout",
       "prompt_number": 14,
       "text": [
        "<matplotlib.axes._subplots.AxesSubplot at 0x7f2fe138f690>"
       ]
      },
      {
       "metadata": {},
       "output_type": "display_data",
       "png": "[encoded data removed]",
       "text": [
        "<matplotlib.figure.Figure at 0x7f2fe4665b50>"
       ]
      }
     ],
     "prompt_number": 14
    },
    {
     "cell_type": "code",
     "collapsed": false,
     "input": [
      "model = LogisticRegression()\n",
      "scores = cross_val_score(model, data, labels, cv=5)\n",
      "print(str(model)[:12] + ': ' + str(scores.mean()))"
     ],
     "language": "python",
     "metadata": {},
     "outputs": [
      {
       "output_type": "stream",
       "stream": "stdout",
       "text": [
        "LogisticRegr: 0.871040723982\n"
       ]
      }
     ],
     "prompt_number": 15
    },
    {
     "cell_type": "code",
     "collapsed": false,
     "input": [
      "bags = data.copy()\n",
      "t_vect = TfidfVectorizer()\n",
      "bags_t =t_vect.fit_transform(textes)\n",
      "bags_t = pd.DataFrame(bags_t.todense(), columns=t_vect.vocabulary_)\n",
      "data_t = bags_t.copy()\n"
     ],
     "language": "python",
     "metadata": {},
     "outputs": [],
     "prompt_number": 16
    },
    {
     "cell_type": "code",
     "collapsed": false,
     "input": [
      "model = LogisticRegression()\n",
      "scores = cross_val_score(model, data_t, labels, cv=5)\n",
      "print(str(model)[:12] + ': ' + str(scores.mean()))"
     ],
     "language": "python",
     "metadata": {},
     "outputs": [
      {
       "output_type": "stream",
       "stream": "stdout",
       "text": [
        "LogisticRegr: 0.690313390313\n"
       ]
      }
     ],
     "prompt_number": 17
    },
    {
     "cell_type": "code",
     "collapsed": false,
     "input": [
      "count_vect_b = CountVectorizer(ngram_range=(2, 2))\n",
      "bags_b = count_vect_b.fit_transform(textes)\n",
      "bags_b = pd.DataFrame(bags_b.todense(), columns=count_vect_b.vocabulary_)\n",
      "data_b = bags_b.copy()\n",
      "data_b.head()"
     ],
     "language": "python",
     "metadata": {},
     "outputs": [
      {
       "html": [
        "<div style=\"max-width:1500px;overflow:auto;\">\n",
        "<style scoped>\n",
        "    .dataframe tbody tr th:only-of-type {\n",
        "        vertical-align: middle;\n",
        "    }\n",
        "\n",
        "    .dataframe tbody tr th {\n",
        "        vertical-align: top;\n",
        "    }\n",
        "\n",
        "    .dataframe thead th {\n",
        "        text-align: right;\n",
        "    }\n",
        "</style>\n",
        "<table border=\"1\" class=\"dataframe\">\n",
        "  <thead>\n",
        "    <tr style=\"text-align: right;\">\n",
        "      <th></th>\n",
        "      <th>\u0441\u043e\u0441\u0442\u0430\u0432\u0435 \u043a\u0438\u0442\u0430\u0439\u0441\u043a\u043e\u0433\u043e</th>\n",
        "      <th>\u0432\u043d\u0443\u0442\u0440\u0435\u043d\u043d\u0435\u0433\u043e \u0440\u044b\u043d\u043a\u0430</th>\n",
        "      <th>interest \u0432\u044b\u0440\u0430\u0437\u0438\u043b\u0438</th>\n",
        "      <th>\u0438\u0437 \u0431\u043e\u043b\u044c\u0448\u043e\u0433\u043e</th>\n",
        "      <th>\u0441\u043e\u043e\u0431\u0449\u0430\u0435\u0442 get</th>\n",
        "      <th>\u043f\u0443\u0431\u043b\u0438\u0447\u043d\u044b\u0439 \u043f\u0430\u0440\u043a</th>\n",
        "      <th>\u043f\u043e \u043c\u043d\u043e\u0433\u0438\u043c</th>\n",
        "      <th>\u0438\u0445 \u0437\u0430\u043f\u043e\u043c\u0438\u043d\u0430\u044e\u0449\u0438\u043c\u0438\u0441\u044f</th>\n",
        "      <th>\u0433\u043e\u0434 \u043f\u043b\u044e\u0441</th>\n",
        "      <th>\u0438\u0437 \u043d\u0438\u0433\u0435\u0440\u0438\u0438</th>\n",
        "      <th>...</th>\n",
        "      <th>\u0444\u0440\u0430\u043d\u0446\u0443\u0437\u0441\u043a\u0438\u043c \u043b\u0430\u0439\u043d\u0435\u0440\u043e\u043c</th>\n",
        "      <th>\u043f\u0435\u0440\u0435\u043f\u0440\u0430\u0432\u0435 \u043d\u0435</th>\n",
        "      <th>\u0441\u043e\u0433\u043b\u0430\u0441\u0438\u044f \u043d\u0430</th>\n",
        "      <th>awards \u043f\u043e\u043b\u043d\u044b\u0439</th>\n",
        "      <th>\u0437\u0430\u043a\u0440\u044b\u0442\u0430 \u043f\u043e\u0441\u0442\u0440\u0430\u0434\u0430\u0432\u0448\u0438\u0445</th>\n",
        "      <th>\u043f\u043e\u0431\u0435\u0434\u0438\u0432 \u0438\u0440\u043b\u0430\u043d\u0434\u0441\u043a\u043e\u0433\u043e</th>\n",
        "      <th>\u043f\u043e\u0434\u043f\u0438\u0441\u0430\u043b \u043a\u043e\u043d\u0442\u0440\u0430\u043a\u0442</th>\n",
        "      <th>\u0433\u0430\u0437\u0430 \u043f\u043e</th>\n",
        "      <th>\u043e\u0442\u0432\u0435\u0442 \u043d\u0430</th>\n",
        "      <th>\u043a\u043e\u043d\u0446\u0435\u043f\u0446\u0438\u044f \u043f\u0440\u043e\u0435\u043a\u0442\u0430</th>\n",
        "    </tr>\n",
        "  </thead>\n",
        "  <tbody>\n",
        "    <tr>\n",
        "      <th>0</th>\n",
        "      <td>0</td>\n",
        "      <td>0</td>\n",
        "      <td>0</td>\n",
        "      <td>0</td>\n",
        "      <td>0</td>\n",
        "      <td>0</td>\n",
        "      <td>0</td>\n",
        "      <td>0</td>\n",
        "      <td>0</td>\n",
        "      <td>0</td>\n",
        "      <td>...</td>\n",
        "      <td>0</td>\n",
        "      <td>0</td>\n",
        "      <td>0</td>\n",
        "      <td>0</td>\n",
        "      <td>0</td>\n",
        "      <td>0</td>\n",
        "      <td>0</td>\n",
        "      <td>0</td>\n",
        "      <td>0</td>\n",
        "      <td>0</td>\n",
        "    </tr>\n",
        "    <tr>\n",
        "      <th>1</th>\n",
        "      <td>0</td>\n",
        "      <td>0</td>\n",
        "      <td>0</td>\n",
        "      <td>0</td>\n",
        "      <td>0</td>\n",
        "      <td>0</td>\n",
        "      <td>0</td>\n",
        "      <td>0</td>\n",
        "      <td>0</td>\n",
        "      <td>0</td>\n",
        "      <td>...</td>\n",
        "      <td>0</td>\n",
        "      <td>0</td>\n",
        "      <td>0</td>\n",
        "      <td>0</td>\n",
        "      <td>0</td>\n",
        "      <td>0</td>\n",
        "      <td>0</td>\n",
        "      <td>0</td>\n",
        "      <td>0</td>\n",
        "      <td>0</td>\n",
        "    </tr>\n",
        "    <tr>\n",
        "      <th>2</th>\n",
        "      <td>0</td>\n",
        "      <td>0</td>\n",
        "      <td>0</td>\n",
        "      <td>0</td>\n",
        "      <td>0</td>\n",
        "      <td>0</td>\n",
        "      <td>0</td>\n",
        "      <td>0</td>\n",
        "      <td>0</td>\n",
        "      <td>0</td>\n",
        "      <td>...</td>\n",
        "      <td>0</td>\n",
        "      <td>0</td>\n",
        "      <td>0</td>\n",
        "      <td>0</td>\n",
        "      <td>0</td>\n",
        "      <td>0</td>\n",
        "      <td>0</td>\n",
        "      <td>0</td>\n",
        "      <td>0</td>\n",
        "      <td>0</td>\n",
        "    </tr>\n",
        "    <tr>\n",
        "      <th>3</th>\n",
        "      <td>0</td>\n",
        "      <td>0</td>\n",
        "      <td>0</td>\n",
        "      <td>0</td>\n",
        "      <td>0</td>\n",
        "      <td>0</td>\n",
        "      <td>0</td>\n",
        "      <td>0</td>\n",
        "      <td>0</td>\n",
        "      <td>0</td>\n",
        "      <td>...</td>\n",
        "      <td>0</td>\n",
        "      <td>0</td>\n",
        "      <td>0</td>\n",
        "      <td>0</td>\n",
        "      <td>0</td>\n",
        "      <td>0</td>\n",
        "      <td>0</td>\n",
        "      <td>0</td>\n",
        "      <td>0</td>\n",
        "      <td>0</td>\n",
        "    </tr>\n",
        "    <tr>\n",
        "      <th>4</th>\n",
        "      <td>0</td>\n",
        "      <td>0</td>\n",
        "      <td>0</td>\n",
        "      <td>0</td>\n",
        "      <td>0</td>\n",
        "      <td>0</td>\n",
        "      <td>0</td>\n",
        "      <td>0</td>\n",
        "      <td>0</td>\n",
        "      <td>0</td>\n",
        "      <td>...</td>\n",
        "      <td>0</td>\n",
        "      <td>0</td>\n",
        "      <td>0</td>\n",
        "      <td>0</td>\n",
        "      <td>0</td>\n",
        "      <td>0</td>\n",
        "      <td>0</td>\n",
        "      <td>0</td>\n",
        "      <td>0</td>\n",
        "      <td>0</td>\n",
        "    </tr>\n",
        "  </tbody>\n",
        "</table>\n",
        "<p>5 rows \u00d7 33770 columns</p>\n",
        "</div>"
       ],
       "metadata": {},
       "output_type": "pyout",
       "prompt_number": 18,
       "text": [
        "   \u0441\u043e\u0441\u0442\u0430\u0432\u0435 \u043a\u0438\u0442\u0430\u0439\u0441\u043a\u043e\u0433\u043e  \u0432\u043d\u0443\u0442\u0440\u0435\u043d\u043d\u0435\u0433\u043e \u0440\u044b\u043d\u043a\u0430  interest \u0432\u044b\u0440\u0430\u0437\u0438\u043b\u0438  \u0438\u0437 \u0431\u043e\u043b\u044c\u0448\u043e\u0433\u043e  \\\n",
        "0                   0                  0                  0            0   \n",
        "1                   0                  0                  0            0   \n",
        "2                   0                  0                  0            0   \n",
        "3                   0                  0                  0            0   \n",
        "4                   0                  0                  0            0   \n",
        "\n",
        "   \u0441\u043e\u043e\u0431\u0449\u0430\u0435\u0442 get  \u043f\u0443\u0431\u043b\u0438\u0447\u043d\u044b\u0439 \u043f\u0430\u0440\u043a  \u043f\u043e \u043c\u043d\u043e\u0433\u0438\u043c  \u0438\u0445 \u0437\u0430\u043f\u043e\u043c\u0438\u043d\u0430\u044e\u0449\u0438\u043c\u0438\u0441\u044f  \u0433\u043e\u0434 \u043f\u043b\u044e\u0441  \\\n",
        "0             0               0          0                   0         0   \n",
        "1             0               0          0                   0         0   \n",
        "2             0               0          0                   0         0   \n",
        "3             0               0          0                   0         0   \n",
        "4             0               0          0                   0         0   \n",
        "\n",
        "   \u0438\u0437 \u043d\u0438\u0433\u0435\u0440\u0438\u0438        ...          \u0444\u0440\u0430\u043d\u0446\u0443\u0437\u0441\u043a\u0438\u043c \u043b\u0430\u0439\u043d\u0435\u0440\u043e\u043c  \u043f\u0435\u0440\u0435\u043f\u0440\u0430\u0432\u0435 \u043d\u0435  \\\n",
        "0           0        ...                             0             0   \n",
        "1           0        ...                             0             0   \n",
        "2           0        ...                             0             0   \n",
        "3           0        ...                             0             0   \n",
        "4           0        ...                             0             0   \n",
        "\n",
        "   \u0441\u043e\u0433\u043b\u0430\u0441\u0438\u044f \u043d\u0430  awards \u043f\u043e\u043b\u043d\u044b\u0439  \u0437\u0430\u043a\u0440\u044b\u0442\u0430 \u043f\u043e\u0441\u0442\u0440\u0430\u0434\u0430\u0432\u0448\u0438\u0445  \u043f\u043e\u0431\u0435\u0434\u0438\u0432 \u0438\u0440\u043b\u0430\u043d\u0434\u0441\u043a\u043e\u0433\u043e  \\\n",
        "0            0              0                     0                    0   \n",
        "1            0              0                     0                    0   \n",
        "2            0              0                     0                    0   \n",
        "3            0              0                     0                    0   \n",
        "4            0              0                     0                    0   \n",
        "\n",
        "   \u043f\u043e\u0434\u043f\u0438\u0441\u0430\u043b \u043a\u043e\u043d\u0442\u0440\u0430\u043a\u0442  \u0433\u0430\u0437\u0430 \u043f\u043e  \u043e\u0442\u0432\u0435\u0442 \u043d\u0430  \u043a\u043e\u043d\u0446\u0435\u043f\u0446\u0438\u044f \u043f\u0440\u043e\u0435\u043a\u0442\u0430  \n",
        "0                  0        0         0                  0  \n",
        "1                  0        0         0                  0  \n",
        "2                  0        0         0                  0  \n",
        "3                  0        0         0                  0  \n",
        "4                  0        0         0                  0  \n",
        "\n",
        "[5 rows x 33770 columns]"
       ]
      }
     ],
     "prompt_number": 18
    },
    {
     "cell_type": "code",
     "collapsed": false,
     "input": [
      "model = LogisticRegression()\n",
      "scores = cross_val_score(model, data_b, labels, cv=5)\n",
      "print(str(model)[:12] + ': ' + str(scores.mean()))"
     ],
     "language": "python",
     "metadata": {},
     "outputs": [
      {
       "output_type": "stream",
       "stream": "stdout",
       "text": [
        "LogisticRegr: 0.693874643875\n"
       ]
      }
     ],
     "prompt_number": 19
    },
    {
     "cell_type": "code",
     "collapsed": false,
     "input": [
      "param_grid = [{'C': [0.5,1,4,8]}]\n",
      "model = LogisticRegression()\n",
      "grid_search = GridSearchCV(model, param_grid, cv=7)\n",
      "grid_search.fit(data, labels)\n",
      "best_model = grid_search.best_estimator_\n",
      "scores = cross_val_score(best_model, data, labels, cv=7)\n",
      "print(str(best_model)[:12] + ': ' + str(scores.mean()))"
     ],
     "language": "python",
     "metadata": {},
     "outputs": [
      {
       "output_type": "stream",
       "stream": "stdout",
       "text": [
        "LogisticRegr: 0.875031046084\n"
       ]
      },
      {
       "output_type": "stream",
       "stream": "stderr",
       "text": [
        "/usr/local/lib/python2.7/dist-packages/sklearn/model_selection/_search.py:841: DeprecationWarning: The default of the `iid` parameter will change from True to False in version 0.22 and will be removed in 0.24. This will change numeric results when test-set sizes are unequal.\n",
        "  DeprecationWarning)\n"
       ]
      }
     ],
     "prompt_number": 20
    },
    {
     "cell_type": "code",
     "collapsed": false,
     "input": [],
     "language": "python",
     "metadata": {},
     "outputs": []
    }
   ],
   "metadata": {}
  }
 ]
}